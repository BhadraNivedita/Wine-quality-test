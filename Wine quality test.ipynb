{
 "cells": [
  {
   "cell_type": "code",
   "execution_count": 3,
   "metadata": {},
   "outputs": [],
   "source": [
    "import pandas\n",
    "from sklearn import tree\n",
    "import numpy as np\n",
    "from sklearn.model_selection import cross_val_score,GridSearchCV\n",
    "from sklearn.ensemble import AdaBoostClassifier\n",
    "\n",
    "\n",
    "d = pandas.read_csv(\"wine.data\",names=[\"Class\",\"Alcohol\",\"Malic Alic\",\"Ash\",\"Alcanility of Ash\",\"Magnesium\",\n",
    "                    \"Total phenols\",\"Flavanoids\",\"Nonflavanoid phenols\",\"Proanthocyanins\",\"Color intensity\",\"Hue\",\"OD280_OD315_diluted wines\",\n",
    "                    \"Proline\"])\n",
    "\n",
    "y = d[\"Class\"].values\n",
    "del(d[\"Class\"])"
   ]
  },
  {
   "cell_type": "code",
   "execution_count": null,
   "metadata": {},
   "outputs": [],
   "source": [
    "########################################################################################\n",
    "\n",
    "#clh = tree.DecisionTreeClassifier(max_depth  = 10)\n",
    "#parameters = {'max_depth':np.arange(1,20)}\n",
    "#clfx = grid_search.GridSearchCV(clh, parameters)\n",
    "#clfx.fit(d.values, y)\n",
    "#print(clfx.best_params_)\n",
    "\n"
   ]
  },
  {
   "cell_type": "code",
   "execution_count": 5,
   "metadata": {},
   "outputs": [
    {
     "name": "stdout",
     "output_type": "stream",
     "text": [
      "0.9104761904761904\n"
     ]
    }
   ],
   "source": [
    "########################################################################################\n",
    "\n",
    "\n",
    "clh = tree.DecisionTreeClassifier(max_depth  = 4)\n",
    "clf = AdaBoostClassifier(base_estimator= clh,n_estimators=10)\n",
    "clf.fit(d.values, y)\n",
    "\n",
    "\n",
    "########################################################################################\n",
    "\n",
    "\n",
    "print(np.mean(cross_val_score(clf, d.values, y, cv=5)))\n"
   ]
  },
  {
   "cell_type": "code",
   "execution_count": null,
   "metadata": {},
   "outputs": [],
   "source": []
  }
 ],
 "metadata": {
  "kernelspec": {
   "display_name": "Python 3",
   "language": "python",
   "name": "python3"
  },
  "language_info": {
   "codemirror_mode": {
    "name": "ipython",
    "version": 3
   },
   "file_extension": ".py",
   "mimetype": "text/x-python",
   "name": "python",
   "nbconvert_exporter": "python",
   "pygments_lexer": "ipython3",
   "version": "3.7.6"
  }
 },
 "nbformat": 4,
 "nbformat_minor": 4
}
